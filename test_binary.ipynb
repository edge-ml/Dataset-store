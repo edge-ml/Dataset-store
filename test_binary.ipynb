{
 "cells": [
  {
   "cell_type": "code",
   "execution_count": 115,
   "metadata": {},
   "outputs": [
    {
     "name": "stdout",
     "output_type": "stream",
     "text": [
      "The autoreload extension is already loaded. To reload it, use:\n",
      "  %reload_ext autoreload\n"
     ]
    }
   ],
   "source": [
    "%load_ext autoreload\n",
    "%autoreload 2\n",
    "\n",
    "import pandas as pd\n",
    "import matplotlib.pyplot as plt\n",
    "import struct\n",
    "\n",
    "from math import sin, cos"
   ]
  },
  {
   "cell_type": "code",
   "execution_count": 116,
   "metadata": {},
   "outputs": [
    {
     "name": "stdout",
     "output_type": "stream",
     "text": [
      "6.944444444444445\n"
     ]
    }
   ],
   "source": [
    "sec = 10000000 / 400\n",
    "min = sec / 60\n",
    "h = min / 60\n",
    "\n",
    "print(h)"
   ]
  },
  {
   "cell_type": "code",
   "execution_count": 131,
   "metadata": {},
   "outputs": [],
   "source": [
    "# Generate data\n",
    "time = []\n",
    "sin_x = []\n",
    "cos_x = []\n",
    "\n",
    "for i in range(0,1000000):\n",
    "    time.append(i*20)\n",
    "    sin_x.append(sin(i / 100))\n",
    "    cos_x.append(cos(i / 100))\n",
    "\n",
    "\n",
    "meta1 = {\n",
    "    \"name\": \"Test\",\n",
    "    \"unit\": \"TestUnit\",\n",
    "    \"datasetId\": \"63a5cf1c4884de8087e7cfff\",\n",
    "    \"start\": 2,\n",
    "    \"end\": 10,\n",
    "    \"data\": {\n",
    "        \"time\": time,\n",
    "        \"values\": sin_x\n",
    "    }\n",
    "}"
   ]
  },
  {
   "cell_type": "code",
   "execution_count": 132,
   "metadata": {},
   "outputs": [],
   "source": [
    "import numpy as np\n",
    "\n",
    "with open(\"data_1000000_50Hz.csv\", \"w\") as f:\n",
    "    f.write(\"time, sensor_sin, sensor_cos\\n\")\n",
    "    for (t, s, c) in zip(time, sin_x, cos_x):\n",
    "        f.write(\",\".join([str(t), str(round(s, 2)), str(round(c, 2))]))\n",
    "        f.write(\"\\n\")"
   ]
  },
  {
   "cell_type": "code",
   "execution_count": 119,
   "metadata": {},
   "outputs": [
    {
     "name": "stdout",
     "output_type": "stream",
     "text": [
      "uint32\n",
      "float32\n"
     ]
    }
   ],
   "source": [
    "# Write to bytearray\n",
    "from src.controller import Controller\n",
    "\n",
    "ctrl = Controller()\n",
    "\n",
    "ctrl.addTimeSeries(meta1)"
   ]
  },
  {
   "cell_type": "code",
   "execution_count": 120,
   "metadata": {},
   "outputs": [
    {
     "name": "stdout",
     "output_type": "stream",
     "text": [
      "Len: 100000\n"
     ]
    }
   ],
   "source": [
    "ts = ctrl.getTimeSeriesFull(datasetId=\"63a5cf1c4884de8087e7cfff\")"
   ]
  },
  {
   "cell_type": "code",
   "execution_count": null,
   "metadata": {},
   "outputs": [],
   "source": []
  },
  {
   "cell_type": "code",
   "execution_count": 121,
   "metadata": {},
   "outputs": [
    {
     "ename": "ModuleNotFoundError",
     "evalue": "No module named 'src.main'",
     "output_type": "error",
     "traceback": [
      "\u001b[0;31m---------------------------------------------------------------------------\u001b[0m",
      "\u001b[0;31mModuleNotFoundError\u001b[0m                       Traceback (most recent call last)",
      "Cell \u001b[0;32mIn[121], line 3\u001b[0m\n\u001b[1;32m      1\u001b[0m \u001b[38;5;66;03m# Load series\u001b[39;00m\n\u001b[0;32m----> 3\u001b[0m \u001b[38;5;28;01mfrom\u001b[39;00m \u001b[38;5;21;01msrc\u001b[39;00m\u001b[38;5;21;01m.\u001b[39;00m\u001b[38;5;21;01mmain\u001b[39;00m \u001b[38;5;28;01mimport\u001b[39;00m TSStore\n\u001b[1;32m      5\u001b[0m store2 \u001b[38;5;241m=\u001b[39m TSStore(_id\u001b[38;5;241m=\u001b[39m\u001b[38;5;124m\"\u001b[39m\u001b[38;5;124m123456\u001b[39m\u001b[38;5;124m\"\u001b[39m)\n\u001b[1;32m      6\u001b[0m store2\u001b[38;5;241m.\u001b[39mloadSeries()\n",
      "\u001b[0;31mModuleNotFoundError\u001b[0m: No module named 'src.main'"
     ]
    }
   ],
   "source": [
    "# Load series\n",
    "\n",
    "from src.main import TSStore\n",
    "\n",
    "store2 = TSStore(_id=\"123456\")\n",
    "store2.loadSeries()"
   ]
  },
  {
   "cell_type": "code",
   "execution_count": null,
   "metadata": {},
   "outputs": [
    {
     "name": "stdout",
     "output_type": "stream",
     "text": [
      "4\n"
     ]
    }
   ],
   "source": [
    "timeCut, dataCut = store2.getPart(2, 5)\n",
    "\n",
    "print(len(timeCut))"
   ]
  }
 ],
 "metadata": {
  "kernelspec": {
   "display_name": "Python 3.9.15 ('TSSTORE')",
   "language": "python",
   "name": "python3"
  },
  "language_info": {
   "codemirror_mode": {
    "name": "ipython",
    "version": 3
   },
   "file_extension": ".py",
   "mimetype": "text/x-python",
   "name": "python",
   "nbconvert_exporter": "python",
   "pygments_lexer": "ipython3",
   "version": "3.9.15"
  },
  "orig_nbformat": 4,
  "vscode": {
   "interpreter": {
    "hash": "b1df35cdcf9d8d94e859d14f2fe62286e29e208b88525007f9aa9a8e3d9cd96b"
   }
  }
 },
 "nbformat": 4,
 "nbformat_minor": 2
}
