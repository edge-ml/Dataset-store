{
 "cells": [
  {
   "cell_type": "code",
   "execution_count": 133,
   "metadata": {},
   "outputs": [
    {
     "name": "stdout",
     "output_type": "stream",
     "text": [
      "The autoreload extension is already loaded. To reload it, use:\n",
      "  %reload_ext autoreload\n"
     ]
    }
   ],
   "source": [
    "%load_ext autoreload\n",
    "%autoreload 2\n",
    "\n",
    "import pandas as pd\n",
    "import matplotlib.pyplot as plt\n",
    "import struct\n",
    "\n",
    "from math import sin, cos"
   ]
  },
  {
   "cell_type": "code",
   "execution_count": 134,
   "metadata": {},
   "outputs": [
    {
     "name": "stdout",
     "output_type": "stream",
     "text": [
      "6.944444444444445\n"
     ]
    }
   ],
   "source": [
    "sec = 10000000 / 400\n",
    "min = sec / 60\n",
    "h = min / 60\n",
    "\n",
    "print(h)"
   ]
  },
  {
   "cell_type": "code",
   "execution_count": 135,
   "metadata": {},
   "outputs": [],
   "source": [
    "# Generate data\n",
    "time = []\n",
    "sin_x = []\n",
    "cos_x = []\n",
    "\n",
    "for i in range(0,2):\n",
    "    time.append(i*20)\n",
    "    sin_x.append(sin(i / 100))\n",
    "    cos_x.append(cos(i / 100))\n",
    "\n",
    "\n",
    "meta1 = {\n",
    "    \"name\": \"Test\",\n",
    "    \"unit\": \"TestUnit\",\n",
    "    \"datasetId\": \"63a5cf1c4884de8087e7cfff\",\n",
    "    \"start\": 2,\n",
    "    \"end\": 10,\n",
    "    \"data\": {\n",
    "        \"time\": time,\n",
    "        \"values\": sin_x\n",
    "    }\n",
    "}"
   ]
  },
  {
   "cell_type": "code",
   "execution_count": 136,
   "metadata": {},
   "outputs": [],
   "source": [
    "import numpy as np\n",
    "\n",
    "with open(\"data_1mil_50Hz.csv\", \"w\") as f:\n",
    "    f.write(\"time, sensor_sin, sensor_cos\\n\")\n",
    "    for (t, s, c) in zip(time, sin_x, cos_x):\n",
    "        f.write(\",\".join([str(t), str(round(s, 2)), str(round(c, 2))]))\n",
    "        f.write(\"\\n\")"
   ]
  },
  {
   "cell_type": "code",
   "execution_count": 137,
   "metadata": {},
   "outputs": [
    {
     "name": "stdout",
     "output_type": "stream",
     "text": [
      "Unexpected exception formatting exception. Falling back to standard exception\n"
     ]
    },
    {
     "name": "stderr",
     "output_type": "stream",
     "text": [
      "Traceback (most recent call last):\n",
      "  File \"/Users/king/opt/anaconda3/envs/TSSTORE/lib/python3.9/site-packages/IPython/core/interactiveshell.py\", line 3433, in run_code\n",
      "    exec(code_obj, self.user_global_ns, self.user_ns)\n",
      "  File \"/var/folders/c7/01xzhz690mj0sss9z1vdfwqc0000gn/T/ipykernel_78628/2835015806.py\", line 6, in <module>\n",
      "    ctrl.addTimeSeries(meta1)\n",
      "  File \"/Users/king/Github/TSStore/src/controller.py\", line 30, in addTimeSeries\n",
      "    doc = self.dbManager.addTimeSeries(metaData)\n",
      "  File \"/Users/king/Github/TSStore/src/dbManager.py\", line 26, in addTimeSeries\n",
      "    ts[\"_id\"] = ObjectId(ts[\"_id\"])\n",
      "KeyError: '_id'\n",
      "\n",
      "During handling of the above exception, another exception occurred:\n",
      "\n",
      "Traceback (most recent call last):\n",
      "  File \"/Users/king/opt/anaconda3/envs/TSSTORE/lib/python3.9/site-packages/IPython/core/interactiveshell.py\", line 2052, in showtraceback\n",
      "    stb = self.InteractiveTB.structured_traceback(\n",
      "  File \"/Users/king/opt/anaconda3/envs/TSSTORE/lib/python3.9/site-packages/IPython/core/ultratb.py\", line 1118, in structured_traceback\n",
      "    return FormattedTB.structured_traceback(\n",
      "  File \"/Users/king/opt/anaconda3/envs/TSSTORE/lib/python3.9/site-packages/IPython/core/ultratb.py\", line 1012, in structured_traceback\n",
      "    return VerboseTB.structured_traceback(\n",
      "  File \"/Users/king/opt/anaconda3/envs/TSSTORE/lib/python3.9/site-packages/IPython/core/ultratb.py\", line 865, in structured_traceback\n",
      "    formatted_exception = self.format_exception_as_a_whole(etype, evalue, etb, number_of_lines_of_context,\n",
      "  File \"/Users/king/opt/anaconda3/envs/TSSTORE/lib/python3.9/site-packages/IPython/core/ultratb.py\", line 818, in format_exception_as_a_whole\n",
      "    frames.append(self.format_record(r))\n",
      "  File \"/Users/king/opt/anaconda3/envs/TSSTORE/lib/python3.9/site-packages/IPython/core/ultratb.py\", line 736, in format_record\n",
      "    result += ''.join(_format_traceback_lines(frame_info.lines, Colors, self.has_colors, lvals))\n",
      "  File \"/Users/king/opt/anaconda3/envs/TSSTORE/lib/python3.9/site-packages/stack_data/utils.py\", line 145, in cached_property_wrapper\n",
      "    value = obj.__dict__[self.func.__name__] = self.func(obj)\n",
      "  File \"/Users/king/opt/anaconda3/envs/TSSTORE/lib/python3.9/site-packages/stack_data/core.py\", line 698, in lines\n",
      "    pieces = self.included_pieces\n",
      "  File \"/Users/king/opt/anaconda3/envs/TSSTORE/lib/python3.9/site-packages/stack_data/utils.py\", line 145, in cached_property_wrapper\n",
      "    value = obj.__dict__[self.func.__name__] = self.func(obj)\n",
      "  File \"/Users/king/opt/anaconda3/envs/TSSTORE/lib/python3.9/site-packages/stack_data/core.py\", line 649, in included_pieces\n",
      "    pos = scope_pieces.index(self.executing_piece)\n",
      "  File \"/Users/king/opt/anaconda3/envs/TSSTORE/lib/python3.9/site-packages/stack_data/utils.py\", line 145, in cached_property_wrapper\n",
      "    value = obj.__dict__[self.func.__name__] = self.func(obj)\n",
      "  File \"/Users/king/opt/anaconda3/envs/TSSTORE/lib/python3.9/site-packages/stack_data/core.py\", line 628, in executing_piece\n",
      "    return only(\n",
      "  File \"/Users/king/opt/anaconda3/envs/TSSTORE/lib/python3.9/site-packages/executing/executing.py\", line 164, in only\n",
      "    raise NotOneValueFound('Expected one value, found 0')\n",
      "executing.executing.NotOneValueFound: Expected one value, found 0\n"
     ]
    }
   ],
   "source": [
    "# Write to bytearray\n",
    "from src.controller import Controller\n",
    "\n",
    "ctrl = Controller()\n",
    "\n",
    "ctrl.addTimeSeries(meta1)"
   ]
  },
  {
   "cell_type": "code",
   "execution_count": 138,
   "metadata": {},
   "outputs": [],
   "source": [
    "ts = ctrl.getTimeSeriesFull(datasetId=\"63a5cf1c4884de8087e7cfff\")"
   ]
  },
  {
   "cell_type": "code",
   "execution_count": null,
   "metadata": {},
   "outputs": [],
   "source": []
  },
  {
   "cell_type": "code",
   "execution_count": 139,
   "metadata": {},
   "outputs": [
    {
     "ename": "ModuleNotFoundError",
     "evalue": "No module named 'src.main'",
     "output_type": "error",
     "traceback": [
      "\u001b[0;31m---------------------------------------------------------------------------\u001b[0m",
      "\u001b[0;31mModuleNotFoundError\u001b[0m                       Traceback (most recent call last)",
      "Cell \u001b[0;32mIn[139], line 3\u001b[0m\n\u001b[1;32m      1\u001b[0m \u001b[38;5;66;03m# Load series\u001b[39;00m\n\u001b[0;32m----> 3\u001b[0m \u001b[38;5;28;01mfrom\u001b[39;00m \u001b[38;5;21;01msrc\u001b[39;00m\u001b[38;5;21;01m.\u001b[39;00m\u001b[38;5;21;01mmain\u001b[39;00m \u001b[38;5;28;01mimport\u001b[39;00m TSStore\n\u001b[1;32m      5\u001b[0m store2 \u001b[38;5;241m=\u001b[39m TSStore(_id\u001b[38;5;241m=\u001b[39m\u001b[38;5;124m\"\u001b[39m\u001b[38;5;124m123456\u001b[39m\u001b[38;5;124m\"\u001b[39m)\n\u001b[1;32m      6\u001b[0m store2\u001b[38;5;241m.\u001b[39mloadSeries()\n",
      "\u001b[0;31mModuleNotFoundError\u001b[0m: No module named 'src.main'"
     ]
    }
   ],
   "source": [
    "# Load series\n",
    "\n",
    "from src.main import TSStore\n",
    "\n",
    "store2 = TSStore(_id=\"123456\")\n",
    "store2.loadSeries()"
   ]
  },
  {
   "cell_type": "code",
   "execution_count": null,
   "metadata": {},
   "outputs": [
    {
     "name": "stdout",
     "output_type": "stream",
     "text": [
      "4\n"
     ]
    }
   ],
   "source": [
    "timeCut, dataCut = store2.getPart(2, 5)\n",
    "\n",
    "print(len(timeCut))"
   ]
  }
 ],
 "metadata": {
  "kernelspec": {
   "display_name": "Python 3.9.15 ('TSSTORE')",
   "language": "python",
   "name": "python3"
  },
  "language_info": {
   "codemirror_mode": {
    "name": "ipython",
    "version": 3
   },
   "file_extension": ".py",
   "mimetype": "text/x-python",
   "name": "python",
   "nbconvert_exporter": "python",
   "pygments_lexer": "ipython3",
   "version": "3.9.15"
  },
  "orig_nbformat": 4,
  "vscode": {
   "interpreter": {
    "hash": "b1df35cdcf9d8d94e859d14f2fe62286e29e208b88525007f9aa9a8e3d9cd96b"
   }
  }
 },
 "nbformat": 4,
 "nbformat_minor": 2
}
